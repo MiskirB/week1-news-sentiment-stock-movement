{
 "cells": [
  {
   "cell_type": "code",
   "execution_count": null,
   "metadata": {},
   "outputs": [],
   "source": [
    "# notebooks/03_technical_indicators.ipynb\n",
    "\n",
    "import yfinance as yf\n",
    "import pandas_ta as ta\n",
    "import matplotlib.pyplot as plt\n",
    "import seaborn as sns\n",
    "import pandas as pd\n",
    "\n",
    "# Load stock price data\n",
    "df = yf.download(\"TSLA\", start=\"2024-01-01\", end=\"2024-05-31\")\n",
    "df.reset_index(inplace=True)\n",
    "\n",
    "# Add indicators\n",
    "df['SMA_20'] = ta.sma(df['Close'], length=20)\n",
    "df['RSI'] = ta.rsi(df['Close'], length=14)\n",
    "macd = ta.macd(df['Close'])\n",
    "df = pd.concat([df, macd], axis=1)\n",
    "\n",
    "# Plot SMA\n",
    "plt.figure(figsize=(14,6))\n",
    "plt.plot(df['Date'], df['Close'], label='Close Price')\n",
    "plt.plot(df['Date'], df['SMA_20'], label='SMA 20', linestyle='--')\n",
    "plt.title('Tesla Close Price & SMA 20')\n",
    "plt.legend()\n",
    "plt.show()\n",
    "\n",
    "# Plot RSI\n",
    "plt.figure(figsize=(14,4))\n",
    "plt.plot(df['Date'], df['RSI'], label='RSI', color='purple')\n",
    "plt.axhline(70, linestyle='--', color='red')\n",
    "plt.axhline(30, linestyle='--', color='green')\n",
    "plt.title('RSI')\n",
    "plt.legend()\n",
    "plt.show()\n"
   ]
  }
 ],
 "metadata": {
  "kernelspec": {
   "display_name": "venv",
   "language": "python",
   "name": "python3"
  },
  "language_info": {
   "name": "python",
   "version": "3.13.2"
  }
 },
 "nbformat": 4,
 "nbformat_minor": 2
}
