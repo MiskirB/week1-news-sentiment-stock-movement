{
 "cells": [
  {
   "cell_type": "code",
   "execution_count": null,
   "metadata": {},
   "outputs": [],
   "source": [
    "# Load and inspect\n",
    "import pandas as pd\n",
    "import matplotlib.pyplot as plt\n",
    "import seaborn as sns\n",
    "\n",
    "news_df = pd.read_csv('../data/news_data.csv')  # Adjust path as needed\n",
    "news_df['headline_length'] = news_df['headline'].apply(len)\n",
    "\n",
    "# Describe\n",
    "print(news_df['headline_length'].describe())\n",
    "\n",
    "# Visualize\n",
    "plt.figure(figsize=(10, 5))\n",
    "sns.histplot(news_df['headline_length'], bins=30, kde=True)\n",
    "plt.title(\"Distribution of Headline Lengths\")\n",
    "plt.xlabel(\"Length of Headline\")\n",
    "plt.ylabel(\"Frequency\")\n",
    "plt.show()\n"
   ]
  }
 ],
 "metadata": {
  "kernelspec": {
   "display_name": "venv",
   "language": "python",
   "name": "python3"
  },
  "language_info": {
   "name": "python",
   "version": "3.13.2"
  }
 },
 "nbformat": 4,
 "nbformat_minor": 2
}
