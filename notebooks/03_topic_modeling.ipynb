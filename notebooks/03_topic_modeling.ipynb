{
 "cells": [
  {
   "cell_type": "code",
   "execution_count": 2,
   "metadata": {},
   "outputs": [
    {
     "name": "stdout",
     "output_type": "stream",
     "text": [
      "Top keywords: ['announces' 'benzinga' 'buy' 'downgrades' 'earnings' 'eps' 'est' 'market'\n",
      " 'mid' 'price' 'pt' 'raises' 'reports' 'sales' 'shares' 'stocks' 'trading'\n",
      " 'update' 'vs' 'week']\n"
     ]
    }
   ],
   "source": [
    "# Topic Modeling using TF-IDF\n",
    "\n",
    "from sklearn.feature_extraction.text import TfidfVectorizer\n",
    "import pandas as pd\n",
    "\n",
    "# Load the data\n",
    "df = pd.read_csv('../data/raw_analyst_ratings.csv')\n",
    "\n",
    "# Ensure the 'headline' column exists\n",
    "if 'headline' not in df.columns:\n",
    "    raise ValueError(\"Column 'headline' not found in dataset.\")\n",
    "\n",
    "# Apply TF-IDF to extract top keywords\n",
    "vectorizer = TfidfVectorizer(stop_words='english', max_features=20)\n",
    "X = vectorizer.fit_transform(df['headline'].dropna())\n",
    "\n",
    "# Print top terms\n",
    "print(\"Top keywords:\", vectorizer.get_feature_names_out())\n"
   ]
  },
  {
   "cell_type": "code",
   "execution_count": null,
   "metadata": {},
   "outputs": [],
   "source": []
  }
 ],
 "metadata": {
  "kernelspec": {
   "display_name": "venv",
   "language": "python",
   "name": "python3"
  },
  "language_info": {
   "codemirror_mode": {
    "name": "ipython",
    "version": 3
   },
   "file_extension": ".py",
   "mimetype": "text/x-python",
   "name": "python",
   "nbconvert_exporter": "python",
   "pygments_lexer": "ipython3",
   "version": "3.13.2"
  }
 },
 "nbformat": 4,
 "nbformat_minor": 2
}
