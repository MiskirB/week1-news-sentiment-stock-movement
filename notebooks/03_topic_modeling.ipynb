{
 "cells": [
  {
   "cell_type": "code",
   "execution_count": null,
   "metadata": {},
   "outputs": [],
   "source": [
    "{\n",
    " \"cells\": [\n",
    "  {\n",
    "   \"cell_type\": \"markdown\",\n",
    "   \"source\": [\n",
    "    \"# Topic Modeling using TF-IDF\"\n",
    "   ]\n",
    "  },\n",
    "  {\n",
    "   \"cell_type\": \"code\",\n",
    "   \"source\": [\n",
    "    \"from sklearn.feature_extraction.text import TfidfVectorizer\\n\",\n",
    "    \"import pandas as pd\\n\",\n",
    "    \"\\n\",\n",
    "    \"df = pd.read_csv('../data/TSLA_historical_data.csv')\\n\",\n",
    "    \"vectorizer = TfidfVectorizer(stop_words='english', max_features=20)\\n\",\n",
    "    \"X = vectorizer.fit_transform(df['headline'].dropna())\\n\",\n",
    "    \"print('Top keywords:', vectorizer.get_feature_names_out())\"\n",
    "   ]\n",
    "  }\n",
    " ],\n",
    " \"metadata\": {},\n",
    " \"nbformat\": 4,\n",
    " \"nbformat_minor\": 2\n",
    "}\n"
   ]
  }
 ],
 "metadata": {
  "language_info": {
   "name": "python"
  }
 },
 "nbformat": 4,
 "nbformat_minor": 2
}
