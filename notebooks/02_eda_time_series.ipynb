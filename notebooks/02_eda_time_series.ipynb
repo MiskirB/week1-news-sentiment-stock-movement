{
 "cells": [
  {
   "cell_type": "code",
   "execution_count": null,
   "metadata": {},
   "outputs": [],
   "source": [
    "{\n",
    " \"cells\": [\n",
    "  {\n",
    "   \"cell_type\": \"markdown\",\n",
    "   \"source\": [\n",
    "    \"# EDA: Time Series Analysis of News\"\n",
    "   ]\n",
    "  },\n",
    "  {\n",
    "   \"cell_type\": \"code\",\n",
    "   \"source\": [\n",
    "    \"import pandas as pd\\n\",\n",
    "    \"import matplotlib.pyplot as plt\\n\",\n",
    "    \"import seaborn as sns\\n\",\n",
    "    \"\\n\",\n",
    "    \"df = pd.read_csv('../data/TSLA_historical_data.csv')\\n\",\n",
    "    \"df['date'] = pd.to_datetime(df['date'])\\n\",\n",
    "    \"df['hour'] = df['date'].dt.hour\\n\",\n",
    "    \"\\n\",\n",
    "    \"df['date'].dt.date.value_counts().sort_index().plot(figsize=(14,4))\\n\",\n",
    "    \"plt.title('Articles Per Day')\\n\",\n",
    "    \"plt.show()\\n\",\n",
    "    \"\\n\",\n",
    "    \"sns.countplot(x='hour', data=df)\\n\",\n",
    "    \"plt.title('Articles by Hour')\\n\",\n",
    "    \"plt.show()\"\n",
    "   ]\n",
    "  }\n",
    " ],\n",
    " \"metadata\": {},\n",
    " \"nbformat\": 4,\n",
    " \"nbformat_minor\": 2\n",
    "}\n"
   ]
  }
 ],
 "metadata": {
  "language_info": {
   "name": "python"
  }
 },
 "nbformat": 4,
 "nbformat_minor": 2
}
